{
 "cells": [
  {
   "cell_type": "markdown",
   "id": "cea0c56d",
   "metadata": {},
   "source": [
    "# Halfspaces and distance"
   ]
  },
  {
   "cell_type": "markdown",
   "id": "f43d5c3f",
   "metadata": {},
   "source": [
    "##### Two ways to find the length of a vector:"
   ]
  },
  {
   "cell_type": "code",
   "execution_count": 3,
   "id": "13305b22",
   "metadata": {},
   "outputs": [],
   "source": [
    "vector = [2, 5]"
   ]
  },
  {
   "cell_type": "code",
   "execution_count": 4,
   "id": "40449f69",
   "metadata": {},
   "outputs": [
    {
     "data": {
      "text/plain": [
       "5.385164807134504"
      ]
     },
     "execution_count": 4,
     "metadata": {},
     "output_type": "execute_result"
    }
   ],
   "source": [
    "length_vector = (vector[0] ** 2 + vector[1] ** 2) ** 0.5\n",
    "length_vector"
   ]
  },
  {
   "cell_type": "code",
   "execution_count": 5,
   "id": "917f7b83",
   "metadata": {},
   "outputs": [
    {
     "data": {
      "text/plain": [
       "5.385164807134504"
      ]
     },
     "execution_count": 5,
     "metadata": {},
     "output_type": "execute_result"
    }
   ],
   "source": [
    "import numpy as np\n",
    "np.linalg.norm(vector)"
   ]
  },
  {
   "cell_type": "markdown",
   "id": "d72008dc",
   "metadata": {},
   "source": [
    "##### Dot Product:"
   ]
  },
  {
   "cell_type": "code",
   "execution_count": 7,
   "id": "8b8f9b73",
   "metadata": {},
   "outputs": [],
   "source": [
    "a = [1,4]\n",
    "b = [2,3]"
   ]
  },
  {
   "cell_type": "code",
   "execution_count": 8,
   "id": "c9160353",
   "metadata": {},
   "outputs": [
    {
     "data": {
      "text/plain": [
       "14"
      ]
     },
     "execution_count": 8,
     "metadata": {},
     "output_type": "execute_result"
    }
   ],
   "source": [
    "np.dot(a,b)"
   ]
  },
  {
   "cell_type": "code",
   "execution_count": 9,
   "id": "43001001",
   "metadata": {},
   "outputs": [
    {
     "data": {
      "text/plain": [
       "array([[ 1,  3],\n",
       "       [ 4,  1],\n",
       "       [-2,  3]])"
      ]
     },
     "execution_count": 9,
     "metadata": {},
     "output_type": "execute_result"
    }
   ],
   "source": [
    "A = np.array([[1,3], [4,1], [-2,3]])\n",
    "A"
   ]
  },
  {
   "cell_type": "code",
   "execution_count": 10,
   "id": "1e16e9cc",
   "metadata": {},
   "outputs": [
    {
     "data": {
      "text/plain": [
       "array([[ 1,  1],\n",
       "       [ 3, -2]])"
      ]
     },
     "execution_count": 10,
     "metadata": {},
     "output_type": "execute_result"
    }
   ],
   "source": [
    "B = np.array([[1,1], [3,-2]])\n",
    "B"
   ]
  },
  {
   "cell_type": "code",
   "execution_count": 11,
   "id": "c880ccf5",
   "metadata": {},
   "outputs": [
    {
     "data": {
      "text/plain": [
       "array([[10, -5],\n",
       "       [ 7,  2],\n",
       "       [ 7, -8]])"
      ]
     },
     "execution_count": 11,
     "metadata": {},
     "output_type": "execute_result"
    }
   ],
   "source": [
    "np.dot(A, B)"
   ]
  },
  {
   "cell_type": "code",
   "execution_count": 12,
   "id": "829b315e",
   "metadata": {},
   "outputs": [
    {
     "data": {
      "text/plain": [
       "array([[ 1,  4, -2],\n",
       "       [ 3,  1,  3]])"
      ]
     },
     "execution_count": 12,
     "metadata": {},
     "output_type": "execute_result"
    }
   ],
   "source": [
    "A.T"
   ]
  },
  {
   "cell_type": "code",
   "execution_count": 14,
   "id": "1a8cf015",
   "metadata": {},
   "outputs": [
    {
     "ename": "ValueError",
     "evalue": "shapes (2,3) and (2,2) not aligned: 3 (dim 1) != 2 (dim 0)",
     "output_type": "error",
     "traceback": [
      "\u001b[1;31m---------------------------------------------------------------------------\u001b[0m",
      "\u001b[1;31mValueError\u001b[0m                                Traceback (most recent call last)",
      "\u001b[1;32m~\\AppData\\Local\\Temp\\ipykernel_13924\\444101703.py\u001b[0m in \u001b[0;36m<module>\u001b[1;34m\u001b[0m\n\u001b[1;32m----> 1\u001b[1;33m \u001b[0mnp\u001b[0m\u001b[1;33m.\u001b[0m\u001b[0mdot\u001b[0m\u001b[1;33m(\u001b[0m\u001b[0mA\u001b[0m\u001b[1;33m.\u001b[0m\u001b[0mT\u001b[0m\u001b[1;33m,\u001b[0m \u001b[0mB\u001b[0m\u001b[1;33m)\u001b[0m \u001b[1;31m# The number of columns of the first matrix must be equal to the number of rows of the second matrix.\u001b[0m\u001b[1;33m\u001b[0m\u001b[1;33m\u001b[0m\u001b[0m\n\u001b[0m",
      "\u001b[1;32m~\\anaconda3\\lib\\site-packages\\numpy\\core\\overrides.py\u001b[0m in \u001b[0;36mdot\u001b[1;34m(*args, **kwargs)\u001b[0m\n",
      "\u001b[1;31mValueError\u001b[0m: shapes (2,3) and (2,2) not aligned: 3 (dim 1) != 2 (dim 0)"
     ]
    }
   ],
   "source": [
    "np.dot(A.T, B) # The number of columns of the first matrix must be equal to the number of rows of the second matrix."
   ]
  },
  {
   "cell_type": "markdown",
   "id": "e6a7a76f",
   "metadata": {},
   "source": [
    "### Plotting line and w vector:"
   ]
  },
  {
   "cell_type": "code",
   "execution_count": 15,
   "id": "e8e778f4",
   "metadata": {},
   "outputs": [],
   "source": [
    "import matplotlib.pyplot as plt"
   ]
  },
  {
   "cell_type": "code",
   "execution_count": 60,
   "id": "fcba70ce",
   "metadata": {},
   "outputs": [
    {
     "data": {
      "image/png": "[encoded data removed]",
      "text/plain": [
       "<Figure size 600x600 with 1 Axes>"
      ]
     },
     "metadata": {},
     "output_type": "display_data"
    }
   ],
   "source": [
    "# Set the values of w and w0\n",
    "w = [-1, -4] # w1 = -1, w2 = -4\n",
    "w0 = 0\n",
    "\n",
    "# Define a function called plot_vector_and_line that takes in two arguments w and w0\n",
    "def plot_vector_and_line(w, w0):\n",
    "    \n",
    "    # Create a range of x1 values\n",
    "    x1 = np.array([-5,-2,0,1,2,5])\n",
    "    \n",
    "    # Calculate x2 values based on the given equation\n",
    "    x2 = -(w0 + w[0]*x1)/w[1]\n",
    "    \n",
    "    # Create a figure and an axis object\n",
    "    fig, ax = plt.subplots(figsize=(6,6))\n",
    "    \n",
    "    # Plot the line using the x1 and x2 values\n",
    "    plt.plot(x1, x2)\n",
    "    \n",
    "    # Set the x and y limits of the plot\n",
    "    ax.set_xlim(-5,5)\n",
    "    ax.set_ylim(-5,5)\n",
    "    \n",
    "    # Create a dictionary of properties for the arrow that represents the vector\n",
    "    arrowprops = {\n",
    "        \"arrowstyle\": \"->\",\n",
    "        \"linewidth\": 2,\n",
    "        \"color\": \"red\",\n",
    "    }\n",
    "    \n",
    "    # Add the arrow to the plot by calling the annotate method\n",
    "    # The arrow starts at the coordinates given in w and points to [0,0]\n",
    "    # The arrow properties are specified using the arrowprops dictionary\n",
    "    ax.annotate(\"\", w, [0,0], arrowprops = arrowprops)\n",
    "    \n",
    "    # Set the position of the left and bottom spines to the origin\n",
    "    ax.spines['left'].set_position('zero')\n",
    "    ax.spines['bottom'].set_position('zero')\n",
    "    \n",
    "    # Move the tick marks to the left and bottom spines\n",
    "    ax.yaxis.tick_left()\n",
    "    ax.xaxis.tick_bottom()\n",
    "    \n",
    "    # Set the aspect ratio to be equal\n",
    "    ax.set_aspect(\"equal\")\n",
    "    \n",
    "    # Hide the top and right spines\n",
    "    ax.spines['top'].set_color('none')\n",
    "    ax.spines['right'].set_color('none')\n",
    "    \n",
    "# Call the function with the given values of w and w0 to plot the line and vector\n",
    "plot_vector_and_line(w, w0)\n"
   ]
  },
  {
   "cell_type": "markdown",
   "id": "28c392e4",
   "metadata": {},
   "source": [
    "<strong>If you have any questions, connect with me here:</strong> https://www.linkedin.com/in/khushalkumar/"
   ]
  }
 ],
 "metadata": {
  "kernelspec": {
   "display_name": "Python 3 (ipykernel)",
   "language": "python",
   "name": "python3"
  },
  "language_info": {
   "codemirror_mode": {
    "name": "ipython",
    "version": 3
   },
   "file_extension": ".py",
   "mimetype": "text/x-python",
   "name": "python",
   "nbconvert_exporter": "python",
   "pygments_lexer": "ipython3",
   "version": "3.8.16"
  }
 },
 "nbformat": 4,
 "nbformat_minor": 5
}
