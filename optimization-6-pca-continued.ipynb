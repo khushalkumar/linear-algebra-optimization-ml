{
 "cells": [
  {
   "cell_type": "markdown",
   "id": "37dd94e7",
   "metadata": {},
   "source": [
    "# PCA Continued"
   ]
  },
  {
   "cell_type": "markdown",
   "id": "c56342b7",
   "metadata": {},
   "source": [
    "### Standardize Columns <br>\n",
    "mean = 0 for every column"
   ]
  },
  {
   "cell_type": "code",
   "execution_count": 1,
   "id": "c1df1f47",
   "metadata": {},
   "outputs": [],
   "source": [
    "import numpy as np\n",
    "import matplotlib.pyplot as plt"
   ]
  },
  {
   "cell_type": "code",
   "execution_count": 2,
   "id": "a6c43522",
   "metadata": {},
   "outputs": [],
   "source": [
    "X = np.random.randint(1, 10, size=(50, 4))"
   ]
  },
  {
   "cell_type": "code",
   "execution_count": 3,
   "id": "04004a6d",
   "metadata": {},
   "outputs": [
    {
     "data": {
      "text/plain": [
       "(50, 4)"
      ]
     },
     "execution_count": 3,
     "metadata": {},
     "output_type": "execute_result"
    }
   ],
   "source": [
    "X.shape"
   ]
  },
  {
   "cell_type": "code",
   "execution_count": 4,
   "id": "5c2ffbe5",
   "metadata": {},
   "outputs": [
    {
     "data": {
      "text/plain": [
       "array([[2, 2, 6, 3],\n",
       "       [2, 1, 7, 7],\n",
       "       [6, 3, 7, 6],\n",
       "       [6, 6, 2, 7],\n",
       "       [5, 9, 6, 8]])"
      ]
     },
     "execution_count": 4,
     "metadata": {},
     "output_type": "execute_result"
    }
   ],
   "source": [
    "X[:5]"
   ]
  },
  {
   "cell_type": "code",
   "execution_count": 5,
   "id": "1642f948",
   "metadata": {},
   "outputs": [
    {
     "data": {
      "text/plain": [
       "5.26"
      ]
     },
     "execution_count": 5,
     "metadata": {},
     "output_type": "execute_result"
    }
   ],
   "source": [
    "X[:, 0].mean()"
   ]
  },
  {
   "cell_type": "code",
   "execution_count": 6,
   "id": "b591a53c",
   "metadata": {},
   "outputs": [
    {
     "data": {
      "text/plain": [
       "array([5.26, 4.8 , 4.54, 4.82])"
      ]
     },
     "execution_count": 6,
     "metadata": {},
     "output_type": "execute_result"
    }
   ],
   "source": [
    "X.mean(axis = 0)"
   ]
  },
  {
   "cell_type": "code",
   "execution_count": 7,
   "id": "f5c0781d",
   "metadata": {},
   "outputs": [],
   "source": [
    "X = X - X.mean(axis=0) # subtracts the column means from the respective columns in X. This centers each column around 0."
   ]
  },
  {
   "cell_type": "code",
   "execution_count": 8,
   "id": "e4898ac5",
   "metadata": {},
   "outputs": [
    {
     "data": {
      "text/plain": [
       "array([ 2.13162821e-16,  7.10542736e-17,  7.10542736e-17, -2.84217094e-16])"
      ]
     },
     "execution_count": 8,
     "metadata": {},
     "output_type": "execute_result"
    }
   ],
   "source": [
    "X.mean(axis = 0) # columns means are zero now"
   ]
  },
  {
   "cell_type": "code",
   "execution_count": 9,
   "id": "c52b1381",
   "metadata": {},
   "outputs": [
    {
     "data": {
      "text/plain": [
       "array([[353.62, -68.4 , -33.02,   4.34],\n",
       "       [-68.4 , 282.  ,  27.4 , -69.8 ],\n",
       "       [-33.02,  27.4 , 352.42,  22.86],\n",
       "       [  4.34, -69.8 ,  22.86, 269.38]])"
      ]
     },
     "execution_count": 9,
     "metadata": {},
     "output_type": "execute_result"
    }
   ],
   "source": [
    "S = np.dot(X.T, X) # Covariance matrix\n",
    "S"
   ]
  },
  {
   "cell_type": "markdown",
   "id": "49d2b843",
   "metadata": {},
   "source": [
    "### Dimensionality Reduction"
   ]
  },
  {
   "cell_type": "code",
   "execution_count": 10,
   "id": "186c2f8c",
   "metadata": {},
   "outputs": [],
   "source": [
    "from sklearn.datasets import make_blobs"
   ]
  },
  {
   "cell_type": "code",
   "execution_count": 11,
   "id": "a2e7d07b",
   "metadata": {},
   "outputs": [],
   "source": [
    "X, y = make_blobs(n_features=5, centers = 2)  # n_samples=100, x has the data, y has the labels here"
   ]
  },
  {
   "cell_type": "code",
   "execution_count": 12,
   "id": "93893eac",
   "metadata": {},
   "outputs": [
    {
     "data": {
      "text/plain": [
       "(100, 5)"
      ]
     },
     "execution_count": 12,
     "metadata": {},
     "output_type": "execute_result"
    }
   ],
   "source": [
    "X.shape"
   ]
  },
  {
   "cell_type": "code",
   "execution_count": 13,
   "id": "e4a31cb2",
   "metadata": {},
   "outputs": [
    {
     "data": {
      "text/plain": [
       "array([[-0.35418326, -4.70053515, -2.89679969,  1.81250111,  6.65040342],\n",
       "       [ 2.39477213, -6.51426042, -1.06856915,  0.78098632,  7.76231437],\n",
       "       [ 1.23560973, -8.60395542,  3.41292078,  0.2992748 ,  9.93538798],\n",
       "       [ 1.68604178, -4.21600805, -0.51084742,  0.40587321,  6.6015821 ],\n",
       "       [ 2.07922799, -4.72906522, -0.99881099, -0.48650077,  5.28510327]])"
      ]
     },
     "execution_count": 13,
     "metadata": {},
     "output_type": "execute_result"
    }
   ],
   "source": [
    "X[:5]"
   ]
  },
  {
   "cell_type": "code",
   "execution_count": 14,
   "id": "ff7f77c1",
   "metadata": {},
   "outputs": [],
   "source": [
    "from sklearn.decomposition import PCA"
   ]
  },
  {
   "cell_type": "code",
   "execution_count": 15,
   "id": "4c105e06",
   "metadata": {},
   "outputs": [],
   "source": [
    "pca = PCA(n_components = 2)"
   ]
  },
  {
   "cell_type": "code",
   "execution_count": 16,
   "id": "2166b89b",
   "metadata": {},
   "outputs": [],
   "source": [
    "X_pca = pca.fit_transform(X)"
   ]
  },
  {
   "cell_type": "code",
   "execution_count": 17,
   "id": "00eaf1df",
   "metadata": {},
   "outputs": [
    {
     "data": {
      "text/plain": [
       "array([[-6.2967228 ,  2.3088722 ],\n",
       "       [-3.20982093,  1.24118616],\n",
       "       [ 1.86057693,  2.60833703],\n",
       "       [-4.02989971, -0.03255605],\n",
       "       [-4.30746541, -1.16157029]])"
      ]
     },
     "execution_count": 17,
     "metadata": {},
     "output_type": "execute_result"
    }
   ],
   "source": [
    "X_pca[:5]"
   ]
  },
  {
   "cell_type": "code",
   "execution_count": 18,
   "id": "745a3e46",
   "metadata": {},
   "outputs": [
    {
     "data": {
      "image/png": "[encoded data removed]",
      "text/plain": [
       "<Figure size 640x480 with 1 Axes>"
      ]
     },
     "metadata": {},
     "output_type": "display_data"
    }
   ],
   "source": [
    "plt.scatter(X_pca[:,0], X_pca[:, 1])\n",
    "plt.show()"
   ]
  },
  {
   "cell_type": "code",
   "execution_count": 19,
   "id": "fd38aefc",
   "metadata": {},
   "outputs": [
    {
     "data": {
      "text/plain": [
       "array([0.79015574, 0.06309519])"
      ]
     },
     "execution_count": 19,
     "metadata": {},
     "output_type": "execute_result"
    }
   ],
   "source": [
    "# Provides the ratio of variance explained by each principal component. \n",
    "# It gives you information about the amount of data explained by each \n",
    "# dimension or principal component.\n",
    "\n",
    "pca.explained_variance_ratio_"
   ]
  },
  {
   "cell_type": "markdown",
   "id": "8f6a2979",
   "metadata": {},
   "source": [
    "### PCA - From Scratch"
   ]
  },
  {
   "attachments": {
    "Screenshot%202023-05-22%20125513.png": {
     "image/png": "[encoded data removed]"
    }
   },
   "cell_type": "markdown",
   "id": "e3f3633a",
   "metadata": {},
   "source": [
    "![Screenshot%202023-05-22%20125513.png](attachment:Screenshot%202023-05-22%20125513.png)"
   ]
  },
  {
   "cell_type": "markdown",
   "id": "5add7958",
   "metadata": {},
   "source": [
    "#### Step 1: Column Standardise"
   ]
  },
  {
   "cell_type": "code",
   "execution_count": 20,
   "id": "ad1ed94a",
   "metadata": {},
   "outputs": [
    {
     "data": {
      "text/plain": [
       "array([ 1.88837417, -6.80993062,  2.43494605, -0.83674595,  7.55378122])"
      ]
     },
     "execution_count": 20,
     "metadata": {},
     "output_type": "execute_result"
    }
   ],
   "source": [
    "X.mean(axis = 0)"
   ]
  },
  {
   "cell_type": "code",
   "execution_count": 21,
   "id": "b254ca8f",
   "metadata": {},
   "outputs": [],
   "source": [
    "X = X - X.mean(axis = 0)"
   ]
  },
  {
   "cell_type": "code",
   "execution_count": 23,
   "id": "c8711950",
   "metadata": {},
   "outputs": [
    {
     "data": {
      "text/plain": [
       "array([ 9.34807787e-16, -5.24025268e-16, -6.03961325e-16,  1.50990331e-16,\n",
       "       -4.44977388e-15])"
      ]
     },
     "execution_count": 23,
     "metadata": {},
     "output_type": "execute_result"
    }
   ],
   "source": [
    "X.mean(axis = 0)"
   ]
  },
  {
   "cell_type": "markdown",
   "id": "a836aa8a",
   "metadata": {},
   "source": [
    "#### Step 2: Covariance Matrix"
   ]
  },
  {
   "cell_type": "code",
   "execution_count": 25,
   "id": "e52fe228",
   "metadata": {},
   "outputs": [
    {
     "data": {
      "text/plain": [
       "(5, 5)"
      ]
     },
     "execution_count": 25,
     "metadata": {},
     "output_type": "execute_result"
    }
   ],
   "source": [
    "S = np.dot(X.T, X)\n",
    "S.shape"
   ]
  },
  {
   "cell_type": "markdown",
   "id": "5f53c84a",
   "metadata": {},
   "source": [
    "#### Step 3: Compute Eigen Values and Eigenvectors of S"
   ]
  },
  {
   "cell_type": "code",
   "execution_count": 26,
   "id": "815d397a",
   "metadata": {},
   "outputs": [],
   "source": [
    "# Most powerful. eigen value decomposition\n",
    "lambdas, vectors = np.linalg.eig(S)"
   ]
  },
  {
   "cell_type": "code",
   "execution_count": 27,
   "id": "44b11491",
   "metadata": {},
   "outputs": [
    {
     "data": {
      "text/plain": [
       "(5,)"
      ]
     },
     "execution_count": 27,
     "metadata": {},
     "output_type": "execute_result"
    }
   ],
   "source": [
    "lambdas.shape"
   ]
  },
  {
   "cell_type": "code",
   "execution_count": 28,
   "id": "ca2a01a6",
   "metadata": {},
   "outputs": [
    {
     "data": {
      "text/plain": [
       "array([1630.4719701 ,   84.77656816,  101.35925713,  130.1957826 ,\n",
       "        116.67820013])"
      ]
     },
     "execution_count": 28,
     "metadata": {},
     "output_type": "execute_result"
    }
   ],
   "source": [
    "lambdas"
   ]
  },
  {
   "cell_type": "code",
   "execution_count": 29,
   "id": "9e7171cb",
   "metadata": {},
   "outputs": [
    {
     "data": {
      "text/plain": [
       "(5, 5)"
      ]
     },
     "execution_count": 29,
     "metadata": {},
     "output_type": "execute_result"
    }
   ],
   "source": [
    "vectors.shape"
   ]
  },
  {
   "cell_type": "code",
   "execution_count": 30,
   "id": "45ea6e44",
   "metadata": {},
   "outputs": [
    {
     "data": {
      "text/plain": [
       "array([[ 0.13981779, -0.73358637, -0.40212476, -0.4555611 , -0.27029942],\n",
       "       [-0.44560153, -0.36004322,  0.65769584, -0.34390478,  0.34781293],\n",
       "       [ 0.85616399, -0.04760426,  0.50429519, -0.10178117, -0.00663429],\n",
       "       [-0.11650254, -0.44294279,  0.29073239,  0.69812092, -0.46725871],\n",
       "       [ 0.18788466, -0.3657259 , -0.2586366 ,  0.42007304,  0.76654398]])"
      ]
     },
     "execution_count": 30,
     "metadata": {},
     "output_type": "execute_result"
    }
   ],
   "source": [
    "vectors # each column is one eigenvector. \n",
    "# Let's say we want to reduce this to 2 vectors. Then, the other 3 vectors will be projected on the first two."
   ]
  },
  {
   "cell_type": "markdown",
   "id": "35a7bb13",
   "metadata": {},
   "source": [
    "#### Step 4: Select top k eigen vectors"
   ]
  },
  {
   "cell_type": "code",
   "execution_count": 31,
   "id": "fe67016c",
   "metadata": {},
   "outputs": [
    {
     "data": {
      "text/plain": [
       "array([[ 0.13981779, -0.73358637],\n",
       "       [-0.44560153, -0.36004322],\n",
       "       [ 0.85616399, -0.04760426],\n",
       "       [-0.11650254, -0.44294279],\n",
       "       [ 0.18788466, -0.3657259 ]])"
      ]
     },
     "execution_count": 31,
     "metadata": {},
     "output_type": "execute_result"
    }
   ],
   "source": [
    "U = vectors[:,:2]\n",
    "U"
   ]
  },
  {
   "cell_type": "code",
   "execution_count": 32,
   "id": "0a2378dc",
   "metadata": {},
   "outputs": [
    {
     "data": {
      "text/plain": [
       "(5, 2)"
      ]
     },
     "execution_count": 32,
     "metadata": {},
     "output_type": "execute_result"
    }
   ],
   "source": [
    "U.shape"
   ]
  },
  {
   "cell_type": "code",
   "execution_count": 33,
   "id": "763a5c9c",
   "metadata": {},
   "outputs": [
    {
     "data": {
      "text/plain": [
       "(100, 5)"
      ]
     },
     "execution_count": 33,
     "metadata": {},
     "output_type": "execute_result"
    }
   ],
   "source": [
    "X.shape"
   ]
  },
  {
   "cell_type": "markdown",
   "id": "dd07f099",
   "metadata": {},
   "source": [
    "#### Step 5: Project xi on selected eigen vectors"
   ]
  },
  {
   "cell_type": "code",
   "execution_count": 42,
   "id": "17dd96fd",
   "metadata": {},
   "outputs": [],
   "source": [
    "X_scratch = np.dot(X, U) # Data from scratch"
   ]
  },
  {
   "cell_type": "code",
   "execution_count": 43,
   "id": "a67dfb88",
   "metadata": {},
   "outputs": [
    {
     "data": {
      "text/plain": [
       "(100, 2)"
      ]
     },
     "execution_count": 43,
     "metadata": {},
     "output_type": "execute_result"
    }
   ],
   "source": [
    "X_scratch.shape"
   ]
  },
  {
   "cell_type": "code",
   "execution_count": 44,
   "id": "c20bc89b",
   "metadata": {},
   "outputs": [
    {
     "data": {
      "text/plain": [
       "array([[-6.2967224 ,  0.29637367],\n",
       "       [-3.2098207 , -1.1039872 ],\n",
       "       [ 1.8605769 , -0.29597777],\n",
       "       [-4.0298996 , -0.847429  ],\n",
       "       [-4.3074656 , -0.05117208]], dtype=float32)"
      ]
     },
     "execution_count": 44,
     "metadata": {},
     "output_type": "execute_result"
    }
   ],
   "source": [
    "X_scratch[:5]"
   ]
  },
  {
   "cell_type": "code",
   "execution_count": 38,
   "id": "443d67fc",
   "metadata": {},
   "outputs": [
    {
     "data": {
      "text/plain": [
       "array([[-6.2967228 ,  2.3088722 ],\n",
       "       [-3.20982093,  1.24118616],\n",
       "       [ 1.86057693,  2.60833703],\n",
       "       [-4.02989971, -0.03255605],\n",
       "       [-4.30746541, -1.16157029]])"
      ]
     },
     "execution_count": 38,
     "metadata": {},
     "output_type": "execute_result"
    }
   ],
   "source": [
    "X_pca[:5]"
   ]
  },
  {
   "cell_type": "markdown",
   "id": "1e760405",
   "metadata": {},
   "source": [
    "There is a slight difference in the second vector between the sklearn implementation and my scratch implementation"
   ]
  },
  {
   "cell_type": "markdown",
   "id": "ccf87151",
   "metadata": {},
   "source": [
    "While the exact values may differ slightly from the results obtained using sklearn, the overall dimensionality reduction and the relative positions of the transformed data points are similar. Therefore, the scratch implementation can be considered correct."
   ]
  },
  {
   "cell_type": "markdown",
   "id": "20e046e9",
   "metadata": {},
   "source": [
    "### Explained Variance"
   ]
  },
  {
   "cell_type": "code",
   "execution_count": 54,
   "id": "a413433e",
   "metadata": {},
   "outputs": [],
   "source": [
    "X, y = make_blobs(n_features = 100, centers = 2)"
   ]
  },
  {
   "cell_type": "code",
   "execution_count": 55,
   "id": "27e35802",
   "metadata": {},
   "outputs": [],
   "source": [
    "pca = PCA()"
   ]
  },
  {
   "cell_type": "code",
   "execution_count": 56,
   "id": "5f4a84df",
   "metadata": {},
   "outputs": [],
   "source": [
    "x_pca = pca.fit_transform(X)"
   ]
  },
  {
   "cell_type": "code",
   "execution_count": 57,
   "id": "2ecb1d0b",
   "metadata": {},
   "outputs": [
    {
     "data": {
      "text/plain": [
       "array([9.37773283e-01, 2.38287347e-03, 2.23412589e-03, 2.11559823e-03,\n",
       "       2.02066529e-03, 1.95974627e-03, 1.89230554e-03, 1.83083242e-03,\n",
       "       1.76420971e-03, 1.73288331e-03, 1.63847853e-03, 1.61647137e-03,\n",
       "       1.54561157e-03, 1.52398355e-03, 1.45850476e-03, 1.39774174e-03,\n",
       "       1.38478304e-03, 1.34314125e-03, 1.30520182e-03, 1.27436598e-03,\n",
       "       1.24523955e-03, 1.17229849e-03, 1.15944993e-03, 1.13551780e-03,\n",
       "       1.08789608e-03, 1.02878732e-03, 1.02165318e-03, 9.64994741e-04,\n",
       "       9.33150806e-04, 9.00199927e-04, 8.73602758e-04, 8.38221431e-04,\n",
       "       7.97988306e-04, 7.85096973e-04, 7.65929442e-04, 7.47236886e-04,\n",
       "       7.18709851e-04, 6.96198633e-04, 6.34150990e-04, 6.23492638e-04,\n",
       "       6.02333365e-04, 5.91877732e-04, 5.66153829e-04, 5.57937860e-04,\n",
       "       5.28816938e-04, 4.89005341e-04, 4.70157683e-04, 4.63974292e-04,\n",
       "       4.52081254e-04, 4.06219613e-04, 3.92426184e-04, 3.89390997e-04,\n",
       "       3.67009243e-04, 3.60014109e-04, 3.57835730e-04, 3.13691596e-04,\n",
       "       3.04227803e-04, 2.99939195e-04, 2.76661452e-04, 2.69757153e-04,\n",
       "       2.58387209e-04, 2.39230230e-04, 2.12341517e-04, 2.05152912e-04,\n",
       "       1.94198260e-04, 1.89237235e-04, 1.64698375e-04, 1.56173769e-04,\n",
       "       1.49176633e-04, 1.38318742e-04, 1.29811576e-04, 1.20514316e-04,\n",
       "       1.14729214e-04, 1.06016555e-04, 9.73040751e-05, 9.67508986e-05,\n",
       "       8.44430601e-05, 7.78143391e-05, 6.56117964e-05, 5.74875215e-05,\n",
       "       5.38261205e-05, 4.43857653e-05, 4.08021050e-05, 3.71681723e-05,\n",
       "       3.47549948e-05, 2.80002459e-05, 2.52151267e-05, 2.05205489e-05,\n",
       "       1.69883743e-05, 1.58641495e-05, 1.24185900e-05, 8.60837637e-06,\n",
       "       7.76263189e-06, 5.93544282e-06, 3.08258450e-06, 1.59462531e-06,\n",
       "       9.03388250e-07, 6.09263416e-07, 2.74621565e-08, 7.71498361e-32])"
      ]
     },
     "execution_count": 57,
     "metadata": {},
     "output_type": "execute_result"
    }
   ],
   "source": [
    "pca.explained_variance_ratio_"
   ]
  },
  {
   "cell_type": "code",
   "execution_count": 58,
   "id": "255acdd5",
   "metadata": {},
   "outputs": [
    {
     "data": {
      "text/plain": [
       "0.9999999999999998"
      ]
     },
     "execution_count": 58,
     "metadata": {},
     "output_type": "execute_result"
    }
   ],
   "source": [
    "pca.explained_variance_ratio_.sum()"
   ]
  },
  {
   "cell_type": "code",
   "execution_count": 59,
   "id": "8f09f84c",
   "metadata": {},
   "outputs": [
    {
     "data": {
      "text/plain": [
       "array([0.93777328, 0.94015616, 0.94239028, 0.94450588, 0.94652655,\n",
       "       0.94848629, 0.9503786 , 0.95220943, 0.95397364, 0.95570652,\n",
       "       0.957345  , 0.95896147, 0.96050708, 0.96203107, 0.96348957,\n",
       "       0.96488731, 0.9662721 , 0.96761524, 0.96892044, 0.97019481,\n",
       "       0.97144005, 0.97261234, 0.97377179, 0.97490731, 0.97599521,\n",
       "       0.977024  , 0.97804565, 0.97901064, 0.97994379, 0.98084399,\n",
       "       0.9817176 , 0.98255582, 0.98335381, 0.9841389 , 0.98490483,\n",
       "       0.98565207, 0.98637078, 0.98706698, 0.98770113, 0.98832462,\n",
       "       0.98892696, 0.98951883, 0.99008499, 0.99064293, 0.99117174,\n",
       "       0.99166075, 0.99213091, 0.99259488, 0.99304696, 0.99345318,\n",
       "       0.99384561, 0.994235  , 0.99460201, 0.99496202, 0.99531986,\n",
       "       0.99563355, 0.99593778, 0.99623772, 0.99651438, 0.99678413,\n",
       "       0.99704252, 0.99728175, 0.99749409, 0.99769925, 0.99789344,\n",
       "       0.99808268, 0.99824738, 0.99840355, 0.99855273, 0.99869105,\n",
       "       0.99882086, 0.99894137, 0.9990561 , 0.99916212, 0.99925942,\n",
       "       0.99935618, 0.99944062, 0.99951843, 0.99958404, 0.99964153,\n",
       "       0.99969536, 0.99973974, 0.99978055, 0.99981771, 0.99985247,\n",
       "       0.99988047, 0.99990568, 0.99992621, 0.99994319, 0.99995906,\n",
       "       0.99997148, 0.99998008, 0.99998785, 0.99999378, 0.99999687,\n",
       "       0.99999846, 0.99999936, 0.99999997, 1.        , 1.        ])"
      ]
     },
     "execution_count": 59,
     "metadata": {},
     "output_type": "execute_result"
    }
   ],
   "source": [
    "information = np.cumsum(pca.explained_variance_ratio_)\n",
    "information"
   ]
  },
  {
   "cell_type": "code",
   "execution_count": 60,
   "id": "88825544",
   "metadata": {},
   "outputs": [
    {
     "data": {
      "text/plain": [
       "[<matplotlib.lines.Line2D at 0x1e61a31c700>]"
      ]
     },
     "execution_count": 60,
     "metadata": {},
     "output_type": "execute_result"
    },
    {
     "data": {
      "image/png": "[encoded data removed]",
      "text/plain": [
       "<Figure size 640x480 with 1 Axes>"
      ]
     },
     "metadata": {},
     "output_type": "display_data"
    }
   ],
   "source": [
    "plt.plot(range(1,101), information)"
   ]
  },
  {
   "cell_type": "markdown",
   "id": "d5a0125f",
   "metadata": {},
   "source": [
    "<strong>If you have any questions, connect with me here:</strong> https://www.linkedin.com/in/khushalkumar/"
   ]
  }
 ],
 "metadata": {
  "kernelspec": {
   "display_name": "Python 3 (ipykernel)",
   "language": "python",
   "name": "python3"
  },
  "language_info": {
   "codemirror_mode": {
    "name": "ipython",
    "version": 3
   },
   "file_extension": ".py",
   "mimetype": "text/x-python",
   "name": "python",
   "nbconvert_exporter": "python",
   "pygments_lexer": "ipython3",
   "version": "3.8.16"
  }
 },
 "nbformat": 4,
 "nbformat_minor": 5
}
