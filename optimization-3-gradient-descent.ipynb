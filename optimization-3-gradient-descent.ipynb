{
 "cells": [
  {
   "cell_type": "markdown",
   "id": "84b8565f",
   "metadata": {},
   "source": [
    "# Gradient descent"
   ]
  },
  {
   "cell_type": "code",
   "execution_count": 1,
   "id": "7505dae5",
   "metadata": {},
   "outputs": [],
   "source": [
    "import numpy as np\n",
    "import matplotlib.pyplot as plt"
   ]
  },
  {
   "cell_type": "code",
   "execution_count": 6,
   "id": "2995d648",
   "metadata": {},
   "outputs": [],
   "source": [
    "# Define a function that takes in a function as an argument and plots it\n",
    "def plot_func(func):\n",
    "    # Create an array of 1000 evenly spaced x values between -20 and 10\n",
    "    x_values = np.linspace(-20, 10, 1000)\n",
    "    # Compute y values for each x value using the input function\n",
    "    y_values = [ func(x) for x in x_values]\n",
    "    # Plot the x and y values using matplotlib\n",
    "    plt.plot(x_values, y_values)\n"
   ]
  },
  {
   "cell_type": "code",
   "execution_count": 7,
   "id": "c433237d",
   "metadata": {},
   "outputs": [],
   "source": [
    "func = lambda x: (x + 6) ** 2 + 5"
   ]
  },
  {
   "cell_type": "code",
   "execution_count": 8,
   "id": "a28e0a2b",
   "metadata": {},
   "outputs": [
    {
     "data": {
      "image/png": "[encoded data removed]",
      "text/plain": [
       "<Figure size 640x480 with 1 Axes>"
      ]
     },
     "metadata": {},
     "output_type": "display_data"
    }
   ],
   "source": [
    "plot_func(func)"
   ]
  },
  {
   "cell_type": "code",
   "execution_count": 10,
   "id": "2f18c2fd",
   "metadata": {},
   "outputs": [],
   "source": [
    "# Define a function that takes in a function and a value k as arguments\n",
    "def derivate(func, k):\n",
    "    # Set a small value for delta_k to be used in the approximation\n",
    "    delta_k = 0.000001\n",
    "    # Use the definition of the derivative to compute an approximation of the derivative at k\n",
    "    derivative = (func(k + delta_k) - func(k)) / (delta_k)\n",
    "    \n",
    "    # Return the computed derivative\n",
    "    return derivative\n"
   ]
  },
  {
   "cell_type": "code",
   "execution_count": 12,
   "id": "42909f46",
   "metadata": {},
   "outputs": [],
   "source": [
    "# Define a function that performs gradient descent optimization on a function\n",
    "def gradient_descent(func, lr=0.1):\n",
    "    # Initialize an empty list to store the values of x during optimization\n",
    "    x_values = []\n",
    "    # Initialize x to a random value between -20 and 10\n",
    "    x = np.random.randint(-20,10)\n",
    "    # Add the initial value of x to the list of x values\n",
    "    x_values.append(x)\n",
    "    \n",
    "    # Iterate over a fixed number of steps (in this case, 50)\n",
    "    for _ in range(50):\n",
    "        # Compute the derivative of the function at the current value of x\n",
    "        d = derivate(func, x)\n",
    "        \n",
    "        # Update the value of x using the gradient descent update rule\n",
    "        x = x - lr * d\n",
    "        # Add the updated value of x to the list of x values\n",
    "        x_values.append(x)\n",
    "    \n",
    "    # Return the list of x values obtained during optimization\n",
    "    return x_values\n"
   ]
  },
  {
   "cell_type": "code",
   "execution_count": 18,
   "id": "afdf99d7",
   "metadata": {
    "scrolled": false
   },
   "outputs": [
    {
     "data": {
      "text/plain": [
       "[9,\n",
       " 5.999999902413947,\n",
       " 3.5999998175238943,\n",
       " 1.679999752454023,\n",
       " 0.14399970210342872,\n",
       " -1.084800338461264,\n",
       " -2.067840371126181,\n",
       " -2.8542723971160058,\n",
       " -3.4834180178723386,\n",
       " -3.986734514264242,\n",
       " -4.389387711448819,\n",
       " -4.71151026914319,\n",
       " -4.969208315334214,\n",
       " -5.17536675232256,\n",
       " -5.340293501913237,\n",
       " -5.472234901585779,\n",
       " -5.577788021341576,\n",
       " -5.662230517092922,\n",
       " -5.729784513711763,\n",
       " -5.783827710918018,\n",
       " -5.827062268718549,\n",
       " -5.861649914976738,\n",
       " -5.889320031929998,\n",
       " -5.9114561255103695,\n",
       " -5.929165000410194,\n",
       " -5.943332100347817,\n",
       " -5.9546657802979155,\n",
       " -5.963732724204704,\n",
       " -5.970986279294607,\n",
       " -5.97678912336653,\n",
       " -5.981431398641831,\n",
       " -5.985145218915363,\n",
       " -5.988116275116425,\n",
       " -5.990493120148329,\n",
       " -5.992394596102798,\n",
       " -5.993915776884137,\n",
       " -5.9951327215624985,\n",
       " -5.996106277287424,\n",
       " -5.996885121831838,\n",
       " -5.9975081974673685,\n",
       " -5.998006657940266,\n",
       " -5.9984054263363475,\n",
       " -5.998724441017686,\n",
       " -5.99897965278052,\n",
       " -5.999183822261841,\n",
       " -5.999347157829135,\n",
       " -5.99947782628297,\n",
       " -5.999582361063801,\n",
       " -5.999665988835176,\n",
       " -5.999732891052275,\n",
       " -5.999786412772664]"
      ]
     },
     "execution_count": 18,
     "metadata": {},
     "output_type": "execute_result"
    }
   ],
   "source": [
    "x_values = gradient_descent(func, lr = 0.1)\n",
    "x_values"
   ]
  },
  {
   "cell_type": "markdown",
   "id": "efb834a7",
   "metadata": {},
   "source": [
    "As the algorithm progresses, the values of x approach the optimal value that minimizes the function. In this case, the optimal value is approximately -6, which is the value that makes the function (x + 6) ** 2 + 5 as small as possible."
   ]
  },
  {
   "cell_type": "code",
   "execution_count": 19,
   "id": "2bf18c7f",
   "metadata": {},
   "outputs": [
    {
     "data": {
      "text/plain": [
       "-5.999786412772664"
      ]
     },
     "execution_count": 19,
     "metadata": {},
     "output_type": "execute_result"
    }
   ],
   "source": [
    "x_values[-1] # value obtained after the gradient descent algorithm has terminated. MINIMA"
   ]
  },
  {
   "cell_type": "code",
   "execution_count": 20,
   "id": "a93cdd75",
   "metadata": {},
   "outputs": [
    {
     "data": {
      "text/plain": [
       "5.000000045619504"
      ]
     },
     "execution_count": 20,
     "metadata": {},
     "output_type": "execute_result"
    }
   ],
   "source": [
    "func(x_values[-1]) # approximate minimum value of the function. MINIMUM"
   ]
  },
  {
   "cell_type": "code",
   "execution_count": 21,
   "id": "01422a4a",
   "metadata": {},
   "outputs": [
    {
     "data": {
      "text/plain": [
       "[230,\n",
       " 148.99999765793473,\n",
       " 97.1599964964588,\n",
       " 63.98239619769386,\n",
       " 42.748732339447024,\n",
       " 29.159187712790505,\n",
       " 20.46187934694509,\n",
       " 14.89560215154628,\n",
       " 11.33318487276959,\n",
       " 9.053237916054837,\n",
       " 7.5940719440320725,\n",
       " 6.660205786523455,\n",
       " 6.0625314971761295,\n",
       " 5.6800199931750415,\n",
       " 5.4352126636179,\n",
       " 5.2785359991041725,\n",
       " 5.178262954922662,\n",
       " 5.114088223583314,\n",
       " 5.0730164090299885,\n",
       " 5.046730458566944,\n",
       " 5.029907458900775,\n",
       " 5.019140746025944,\n",
       " 5.012250055331977,\n",
       " 5.007840017709635,\n",
       " 5.005017597166888,\n",
       " 5.00321125085099,\n",
       " 5.002055191475997,\n",
       " 5.0013153152936125,\n",
       " 5.000841795989171,\n",
       " 5.0005387447940945,\n",
       " 5.000344792956398,\n",
       " 5.0002206645210725,\n",
       " 5.000141222917108,\n",
       " 5.000090380764514,\n",
       " 5.00005784216844,\n",
       " 5.000037017770923,\n",
       " 5.000023690399388,\n",
       " 5.000015161076562,\n",
       " 5.000009702466002,\n",
       " 5.000006209079862,\n",
       " 5.000003973412567,\n",
       " 5.000002542665169,\n",
       " 5.000001627050717,\n",
       " 5.000001041108448,\n",
       " 5.0000006661461,\n",
       " 5.0000004262029,\n",
       " 5.000000272665391,\n",
       " 5.000000174422281,\n",
       " 5.000000111563458,\n",
       " 5.00000007134719,\n",
       " 5.000000045619504]"
      ]
     },
     "execution_count": 21,
     "metadata": {},
     "output_type": "execute_result"
    }
   ],
   "source": [
    "# Compute the values of y by evaluating the function at each value of x obtained by the gradient descent algorithm\n",
    "y_values = [ func(x) for x in x_values ]\n",
    "y_values"
   ]
  },
  {
   "cell_type": "code",
   "execution_count": 22,
   "id": "e4a2c1d9",
   "metadata": {},
   "outputs": [
    {
     "data": {
      "text/plain": [
       "[<matplotlib.lines.Line2D at 0x284d8bbd790>]"
      ]
     },
     "execution_count": 22,
     "metadata": {},
     "output_type": "execute_result"
    },
    {
     "data": {
      "image/png": "[encoded data removed]",
      "text/plain": [
       "<Figure size 640x480 with 1 Axes>"
      ]
     },
     "metadata": {},
     "output_type": "display_data"
    }
   ],
   "source": [
    "plt.plot(y_values)"
   ]
  },
  {
   "cell_type": "code",
   "execution_count": 24,
   "id": "f56ede29",
   "metadata": {},
   "outputs": [
    {
     "data": {
      "image/png": "[encoded data removed]",
      "text/plain": [
       "<Figure size 640x480 with 1 Axes>"
      ]
     },
     "metadata": {},
     "output_type": "display_data"
    }
   ],
   "source": [
    "# Perform gradient descent on the given function using a learning rate of 0.1\n",
    "x_values = gradient_descent(func, lr=0.1)   \n",
    "# Compute the corresponding y-values for each x-value obtained from gradient descent\n",
    "y_values = [func(x) for x in x_values]      \n",
    "\n",
    "# Plot the original function\n",
    "plot_func(func)                             \n",
    "\n",
    "# Iterate over the x and y values and plot each point using plt.scatter\n",
    "for i in range(len(x_values)):              \n",
    "    plt.scatter(x_values[i], y_values[i])\n"
   ]
  },
  {
   "cell_type": "markdown",
   "id": "e0835128",
   "metadata": {},
   "source": [
    "<strong>If you have any questions, connect with me here:</strong> https://www.linkedin.com/in/khushalkumar/"
   ]
  }
 ],
 "metadata": {
  "kernelspec": {
   "display_name": "Python 3 (ipykernel)",
   "language": "python",
   "name": "python3"
  },
  "language_info": {
   "codemirror_mode": {
    "name": "ipython",
    "version": 3
   },
   "file_extension": ".py",
   "mimetype": "text/x-python",
   "name": "python",
   "nbconvert_exporter": "python",
   "pygments_lexer": "ipython3",
   "version": "3.8.16"
  }
 },
 "nbformat": 4,
 "nbformat_minor": 5
}
