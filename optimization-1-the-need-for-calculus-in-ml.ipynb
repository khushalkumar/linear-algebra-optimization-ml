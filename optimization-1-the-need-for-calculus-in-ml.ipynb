{
 "cells": [
  {
   "cell_type": "markdown",
   "id": "f876bd63",
   "metadata": {},
   "source": [
    "# Optimization 1 - The need for calculus in ML\n",
    "\n",
    "#### Here we'll learn about limits and continuity with the help of python"
   ]
  },
  {
   "cell_type": "code",
   "execution_count": 12,
   "id": "05de2595",
   "metadata": {},
   "outputs": [],
   "source": [
    "import numpy as np\n",
    "import matplotlib.pyplot as plt"
   ]
  },
  {
   "cell_type": "code",
   "execution_count": 13,
   "id": "9b30ea18",
   "metadata": {},
   "outputs": [],
   "source": [
    "# Function of x\n",
    "def f(x):\n",
    "    if x < 3:\n",
    "        return 2\n",
    "    else:\n",
    "        return 5"
   ]
  },
  {
   "cell_type": "code",
   "execution_count": 15,
   "id": "bb9a0aaa",
   "metadata": {},
   "outputs": [],
   "source": [
    "# This is how we're going to calculate x and y values\n",
    "x_values = np.linspace(0.1, 7, num = 50)\n",
    "y_values = [f(x) for x in x_values]"
   ]
  },
  {
   "cell_type": "code",
   "execution_count": 20,
   "id": "4e69a6de",
   "metadata": {},
   "outputs": [
    {
     "data": {
      "text/plain": [
       "[2, 2, 2, 2, 2, 2, 2, 2, 2, 2, 2, 2, 2, 2, 2, 2, 2, 2, 2, 2, 2, 5, 5, 5, 5]"
      ]
     },
     "execution_count": 20,
     "metadata": {},
     "output_type": "execute_result"
    }
   ],
   "source": [
    "y_values[:25] # y gets values based on the function."
   ]
  },
  {
   "cell_type": "code",
   "execution_count": 21,
   "id": "278b6c68",
   "metadata": {},
   "outputs": [
    {
     "data": {
      "text/plain": [
       "[<matplotlib.lines.Line2D at 0x2bf9c292df0>]"
      ]
     },
     "execution_count": 21,
     "metadata": {},
     "output_type": "execute_result"
    },
    {
     "data": {
      "image/png": "[encoded data removed]",
      "text/plain": [
       "<Figure size 640x480 with 1 Axes>"
      ]
     },
     "metadata": {},
     "output_type": "display_data"
    }
   ],
   "source": [
    "plt.plot(x_values, y_values)"
   ]
  },
  {
   "cell_type": "code",
   "execution_count": 22,
   "id": "2bcf37a6",
   "metadata": {},
   "outputs": [],
   "source": [
    "def right_hand_limit(f, a):\n",
    "    # 4.01. 4.009, 4.008, 4.007\n",
    "    x_values = np.linspace(a + 0.01, a, num = 10, endpoint= False, )\n",
    "    y_values = [f(x) for x in x_values]\n",
    "    return y_values"
   ]
  },
  {
   "cell_type": "code",
   "execution_count": 25,
   "id": "c06b92c7",
   "metadata": {},
   "outputs": [
    {
     "data": {
      "text/plain": [
       "array([4.01 , 4.009, 4.008, 4.007, 4.006, 4.005, 4.004, 4.003, 4.002,\n",
       "       4.001])"
      ]
     },
     "execution_count": 25,
     "metadata": {},
     "output_type": "execute_result"
    }
   ],
   "source": [
    "# a = 4\n",
    "# np.linspace(a + 0.01, a, num = 10, endpoint = False )"
   ]
  },
  {
   "cell_type": "code",
   "execution_count": 26,
   "id": "24fdadaa",
   "metadata": {},
   "outputs": [
    {
     "data": {
      "text/plain": [
       "[5, 5, 5, 5, 5, 5, 5, 5, 5, 5]"
      ]
     },
     "execution_count": 26,
     "metadata": {},
     "output_type": "execute_result"
    }
   ],
   "source": [
    "# Checking right hand limit at x = 4\n",
    "a = 4\n",
    "right_hand_limit(f, a)"
   ]
  },
  {
   "cell_type": "code",
   "execution_count": 28,
   "id": "6021c608",
   "metadata": {},
   "outputs": [],
   "source": [
    "def left_hand_limit(f, a):\n",
    "    x_values = np.linspace(a - 0.01, a, num = 10, endpoint = False)\n",
    "    y_values = [f(x) for x in x_values]\n",
    "    return y_values"
   ]
  },
  {
   "cell_type": "code",
   "execution_count": 29,
   "id": "4c8eebf3",
   "metadata": {},
   "outputs": [
    {
     "data": {
      "text/plain": [
       "[5, 5, 5, 5, 5, 5, 5, 5, 5, 5]"
      ]
     },
     "execution_count": 29,
     "metadata": {},
     "output_type": "execute_result"
    }
   ],
   "source": [
    "# Checking Left hand limit at x = 4\n",
    "a = 4\n",
    "left_hand_limit(f, a)"
   ]
  },
  {
   "cell_type": "code",
   "execution_count": 30,
   "id": "4964e93b",
   "metadata": {},
   "outputs": [
    {
     "data": {
      "text/plain": [
       "5"
      ]
     },
     "execution_count": 30,
     "metadata": {},
     "output_type": "execute_result"
    }
   ],
   "source": [
    "# Limit at x\n",
    "f(4)"
   ]
  },
  {
   "cell_type": "markdown",
   "id": "2ce81e6e",
   "metadata": {},
   "source": [
    "Since `LHL at 4 = RHL at 4 = f(a)`, the function f(x) is continuous at x = a = 4"
   ]
  },
  {
   "cell_type": "markdown",
   "id": "b9879de6",
   "metadata": {},
   "source": [
    "#### Checking for x = 3"
   ]
  },
  {
   "cell_type": "code",
   "execution_count": 32,
   "id": "f8b00ff8",
   "metadata": {},
   "outputs": [
    {
     "data": {
      "text/plain": [
       "[5, 5, 5, 5, 5, 5, 5, 5, 5, 5]"
      ]
     },
     "execution_count": 32,
     "metadata": {},
     "output_type": "execute_result"
    }
   ],
   "source": [
    "a = 3\n",
    "right_hand_limit(f , a)"
   ]
  },
  {
   "cell_type": "code",
   "execution_count": 33,
   "id": "1ddf556b",
   "metadata": {},
   "outputs": [
    {
     "data": {
      "text/plain": [
       "[2, 2, 2, 2, 2, 2, 2, 2, 2, 2]"
      ]
     },
     "execution_count": 33,
     "metadata": {},
     "output_type": "execute_result"
    }
   ],
   "source": [
    "left_hand_limit(f, a)"
   ]
  },
  {
   "cell_type": "markdown",
   "id": "3397643b",
   "metadata": {},
   "source": [
    "Since `LHL at 3 != RHL at 3`, the function f(x) is not continous at x = a = 3"
   ]
  },
  {
   "cell_type": "markdown",
   "id": "4db43a89",
   "metadata": {},
   "source": [
    "### Testing another function:"
   ]
  },
  {
   "cell_type": "code",
   "execution_count": 36,
   "id": "e983e36a",
   "metadata": {},
   "outputs": [],
   "source": [
    "# Creating a different function this time\n",
    "def f(x):\n",
    "    if x < 3:\n",
    "        return 1/x\n",
    "    else:\n",
    "        return x + 1"
   ]
  },
  {
   "cell_type": "code",
   "execution_count": 37,
   "id": "34de5843",
   "metadata": {},
   "outputs": [
    {
     "data": {
      "text/plain": [
       "[<matplotlib.lines.Line2D at 0x2bf9c2fd340>]"
      ]
     },
     "execution_count": 37,
     "metadata": {},
     "output_type": "execute_result"
    },
    {
     "data": {
      "image/png": "[encoded data removed]",
      "text/plain": [
       "<Figure size 640x480 with 1 Axes>"
      ]
     },
     "metadata": {},
     "output_type": "display_data"
    }
   ],
   "source": [
    "x_values = np.linspace(0.1, 7, num = 50)\n",
    "y_values = [f(x) for x in x_values]\n",
    "plt.plot(x_values, y_values)"
   ]
  },
  {
   "cell_type": "markdown",
   "id": "01249a7a",
   "metadata": {},
   "source": [
    "#### Checking for x = 4"
   ]
  },
  {
   "cell_type": "code",
   "execution_count": 38,
   "id": "c23ab4a9",
   "metadata": {},
   "outputs": [
    {
     "data": {
      "text/plain": [
       "[4.99,\n",
       " 4.991,\n",
       " 4.992,\n",
       " 4.993,\n",
       " 4.994,\n",
       " 4.995,\n",
       " 4.996,\n",
       " 4.997,\n",
       " 4.998,\n",
       " 4.9990000000000006]"
      ]
     },
     "execution_count": 38,
     "metadata": {},
     "output_type": "execute_result"
    }
   ],
   "source": [
    "a = 4\n",
    "left_hand_limit(f, a)"
   ]
  },
  {
   "cell_type": "code",
   "execution_count": 39,
   "id": "be378443",
   "metadata": {},
   "outputs": [
    {
     "data": {
      "text/plain": [
       "[5.01,\n",
       " 5.0089999999999995,\n",
       " 5.008,\n",
       " 5.007,\n",
       " 5.006,\n",
       " 5.005,\n",
       " 5.004,\n",
       " 5.003,\n",
       " 5.002,\n",
       " 5.001]"
      ]
     },
     "execution_count": 39,
     "metadata": {},
     "output_type": "execute_result"
    }
   ],
   "source": [
    "a = 4\n",
    "right_hand_limit(f, a)"
   ]
  },
  {
   "cell_type": "code",
   "execution_count": 40,
   "id": "683aba11",
   "metadata": {},
   "outputs": [
    {
     "data": {
      "text/plain": [
       "5"
      ]
     },
     "execution_count": 40,
     "metadata": {},
     "output_type": "execute_result"
    }
   ],
   "source": [
    "f(a)"
   ]
  },
  {
   "cell_type": "markdown",
   "id": "ac98b4e6",
   "metadata": {},
   "source": [
    "Since `LHL at a ~= RHL at a ~= f(a)` -> The function is continuous at x = a = 4"
   ]
  },
  {
   "cell_type": "markdown",
   "id": "c20c4053",
   "metadata": {},
   "source": [
    "#### Checking for x = 3"
   ]
  },
  {
   "cell_type": "code",
   "execution_count": 43,
   "id": "13c3670d",
   "metadata": {},
   "outputs": [
    {
     "data": {
      "text/plain": [
       "[0.33444816053511706,\n",
       " 0.33433634236041454,\n",
       " 0.3342245989304813,\n",
       " 0.33411293017039756,\n",
       " 0.334001336005344,\n",
       " 0.333889816360601,\n",
       " 0.33377837116154874,\n",
       " 0.33366700033366703,\n",
       " 0.333555703802535,\n",
       " 0.33344448149383127]"
      ]
     },
     "execution_count": 43,
     "metadata": {},
     "output_type": "execute_result"
    }
   ],
   "source": [
    "a = 3\n",
    "left_hand_limit(f, a)"
   ]
  },
  {
   "cell_type": "code",
   "execution_count": 44,
   "id": "6e077f57",
   "metadata": {},
   "outputs": [
    {
     "data": {
      "text/plain": [
       "[4.01,\n",
       " 4.009,\n",
       " 4.008,\n",
       " 4.007,\n",
       " 4.006,\n",
       " 4.005,\n",
       " 4.004,\n",
       " 4.003,\n",
       " 4.002,\n",
       " 4.0009999999999994]"
      ]
     },
     "execution_count": 44,
     "metadata": {},
     "output_type": "execute_result"
    }
   ],
   "source": [
    "right_hand_limit(f, a)"
   ]
  },
  {
   "cell_type": "markdown",
   "id": "72395e90",
   "metadata": {},
   "source": [
    "Since `LHL at 3 != RHL at 3`, the function is not continuous at x = a = 3"
   ]
  },
  {
   "cell_type": "markdown",
   "id": "3cc63a2a",
   "metadata": {},
   "source": [
    "<strong>If you have any questions, connect with me here:</strong> https://www.linkedin.com/in/khushalkumar/"
   ]
  }
 ],
 "metadata": {
  "kernelspec": {
   "display_name": "Python 3 (ipykernel)",
   "language": "python",
   "name": "python3"
  },
  "language_info": {
   "codemirror_mode": {
    "name": "ipython",
    "version": 3
   },
   "file_extension": ".py",
   "mimetype": "text/x-python",
   "name": "python",
   "nbconvert_exporter": "python",
   "pygments_lexer": "ipython3",
   "version": "3.8.16"
  }
 },
 "nbformat": 4,
 "nbformat_minor": 5
}
